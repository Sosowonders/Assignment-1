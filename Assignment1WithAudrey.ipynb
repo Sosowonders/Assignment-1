{
  "nbformat": 4,
  "nbformat_minor": 0,
  "metadata": {
    "colab": {
      "name": "Assignment1WithAudrey.ipynb",
      "provenance": []
    },
    "kernelspec": {
      "name": "python3",
      "display_name": "Python 3"
    },
    "language_info": {
      "name": "python"
    }
  },
  "cells": [
    {
      "cell_type": "code",
      "metadata": {
        "colab": {
          "base_uri": "https://localhost:8080/"
        },
        "id": "lvX5JMc0Vf94",
        "outputId": "9b92b22e-42fa-4c3e-d239-de50784568d6"
      },
      "source": [
        "Name = input(\"Type your name here: \") \n",
        "planet = input(\"Type planet here: \")\n",
        "Days = input(\"insert number here: \")\n",
        "adjective1 = input(\"type adjective here: \")\n",
        "Pet = input(\"type name of animal here: \")\n",
        "adjective2 = input(\"type adjective here: \")\n",
        "Relative = input(\"type name of relative here: \")\n",
        "adjective3 = input(\"insert adjective here: \")\n",
        "verb = input(\"insert appropriate verb here: \")\n",
        "adjective4 = input(\"insert adjective here: \")\n",
        "print(\"Hello my name is \" + Name + \" and I am on my way to \" + planet)\n",
        "print(\"I will be gone for \" + Days + \" days\")\n",
        "print(\"I am very \" + adjective1 + \" about the trip but I will miss \" + Pet)\n",
        "print(\"I have heard that the atmosphere there is \" + adjective2 ) \n",
        "print(\"Luckily my \" + Relative + \" packed me a jacket to keep me \" + adjective3 ) \n",
        "print(\"When I land on the planet I will \" + verb + \" for joy.\") \n",
        "print(\"I could not be more \" + adjective4 + \" for this trip.\")\n",
        "\n",
        "\n",
        "\n",
        "\n",
        "\n"
      ],
      "execution_count": 10,
      "outputs": [
        {
          "output_type": "stream",
          "text": [
            "Type your name here: Kwame\n",
            "Type planet here: Jupiter\n",
            "insert number here: three\n",
            "type adjective here: excited\n",
            "type name of animal here: Ace my dog\n",
            "type adjective here: cold\n",
            "type name of relative here: mom\n",
            "insert adjective here: warm\n",
            "insert appropriate verb here: scream\n",
            "insert adjective here: stoked\n",
            "Hello my name is Kwame and I am on my way to Jupiter\n",
            "I will be gone for three days\n",
            "I am very excited about the trip but I will miss Ace my dog\n",
            "I have heard that the atmosphere there is cold\n",
            "Luckily my mom packed me a jacket to keep me warm\n",
            "When I land on the planet I will scream for joy.\n",
            "I could not be more stoked for this trip.\n"
          ],
          "name": "stdout"
        }
      ]
    }
  ]
}